{
 "cells": [
  {
   "cell_type": "code",
   "execution_count": 38,
   "metadata": {},
   "outputs": [],
   "source": [
    "# import libraries\n",
    "from bs4 import BeautifulSoup\n",
    "from selenium import webdriver\n",
    "import pandas as pd\n",
    "import datetime, re, time, itertools, smtplib, ssl\n",
    "from email.mime.text import MIMEText\n",
    "from email.mime.multipart import MIMEMultipart"
   ]
  },
  {
   "cell_type": "code",
   "execution_count": 39,
   "metadata": {},
   "outputs": [],
   "source": [
    "start_date = datetime.datetime(2020,11,5)\n",
    "days_range = 4\n",
    "trip_length, min_length, max_length = 10, 7, 12\n",
    "price_goal = 200\n",
    "cities = 'DEN-AUS'"
   ]
  },
  {
   "cell_type": "code",
   "execution_count": 40,
   "metadata": {},
   "outputs": [],
   "source": [
    "start = pd.date_range(start_date, periods=days_range).to_pydatetime().tolist()\n",
    "end = pd.date_range(start_date + datetime.timedelta(days=trip_length), periods=days_range).to_pydatetime().tolist()\n",
    "\n",
    "#Get all combinations of dates\n",
    "all_dates = list(itertools.product(start,end))"
   ]
  },
  {
   "cell_type": "code",
   "execution_count": 41,
   "metadata": {},
   "outputs": [],
   "source": [
    "departing=[]\n",
    "returning=[]\n",
    "for i in range(len(all_dates)):\n",
    "    if (([x[1] for x in all_dates][i] - [x[0] for x in all_dates][i]).days > min_length) & \\\n",
    "       (([x[1] for x in all_dates][i] - [x[0] for x in all_dates][i]).days < max_length):\n",
    "            \n",
    "        departing.append(([x[0] for x in all_dates][i]).strftime('%Y-%m-%d'))\n",
    "        returning.append(([x[1] for x in all_dates][i]).strftime('%Y-%m-%d'))\n",
    "    else:\n",
    "        None"
   ]
  },
  {
   "cell_type": "code",
   "execution_count": 42,
   "metadata": {},
   "outputs": [],
   "source": [
    "#cleaning dates to make them usable in loop\n",
    "for i in range(len(departing)):\n",
    "    departing[i]=re.sub('00:00:00', '', departing [i])\n",
    "    returning[i]=re.sub('00:00:00', '', returning[i])"
   ]
  },
  {
   "cell_type": "code",
   "execution_count": 50,
   "metadata": {
    "scrolled": true
   },
   "outputs": [
    {
     "ename": "KeyboardInterrupt",
     "evalue": "",
     "output_type": "error",
     "traceback": [
      "\u001b[0;31m---------------------------------------------------------------------------\u001b[0m",
      "\u001b[0;31mKeyboardInterrupt\u001b[0m                         Traceback (most recent call last)",
      "\u001b[0;32m<ipython-input-50-7904d2442429>\u001b[0m in \u001b[0;36m<module>\u001b[0;34m\u001b[0m\n\u001b[1;32m      6\u001b[0m     \u001b[0mdriver\u001b[0m \u001b[0;34m=\u001b[0m \u001b[0mwebdriver\u001b[0m\u001b[0;34m.\u001b[0m\u001b[0mChrome\u001b[0m\u001b[0;34m(\u001b[0m\u001b[0mexecutable_path\u001b[0m\u001b[0;34m=\u001b[0m\u001b[0;34mr'/Applications/anaconda3/lib/python3.7/site-packages/selenium/webdriver/common/chromedriver'\u001b[0m\u001b[0;34m)\u001b[0m\u001b[0;34m\u001b[0m\u001b[0;34m\u001b[0m\u001b[0m\n\u001b[1;32m      7\u001b[0m     \u001b[0mdriver\u001b[0m\u001b[0;34m.\u001b[0m\u001b[0mget\u001b[0m\u001b[0;34m(\u001b[0m\u001b[0mpage\u001b[0m\u001b[0;34m)\u001b[0m\u001b[0;34m\u001b[0m\u001b[0;34m\u001b[0m\u001b[0m\n\u001b[0;32m----> 8\u001b[0;31m     \u001b[0mtime\u001b[0m\u001b[0;34m.\u001b[0m\u001b[0msleep\u001b[0m\u001b[0;34m(\u001b[0m\u001b[0;36m10\u001b[0m\u001b[0;34m)\u001b[0m\u001b[0;34m\u001b[0m\u001b[0;34m\u001b[0m\u001b[0m\n\u001b[0m\u001b[1;32m      9\u001b[0m     \u001b[0msoup\u001b[0m \u001b[0;34m=\u001b[0m \u001b[0mBeautifulSoup\u001b[0m\u001b[0;34m(\u001b[0m\u001b[0mdriver\u001b[0m\u001b[0;34m.\u001b[0m\u001b[0mpage_source\u001b[0m\u001b[0;34m,\u001b[0m \u001b[0;34m'html.parser'\u001b[0m\u001b[0;34m)\u001b[0m\u001b[0;34m\u001b[0m\u001b[0;34m\u001b[0m\u001b[0m\n\u001b[1;32m     10\u001b[0m \u001b[0;34m\u001b[0m\u001b[0m\n",
      "\u001b[0;31mKeyboardInterrupt\u001b[0m: "
     ]
    }
   ],
   "source": [
    "data=[]\n",
    "\n",
    "for i in range(len(departing)):\n",
    "\n",
    "    page ='https://www.ca.kayak.com/flights/' + cities + '/' + departing[i]+ '/' + returning[i] +'?sort=bestflight_a' \n",
    "    driver = webdriver.Chrome(executable_path=r'/Applications/anaconda3/lib/python3.7/site-packages/selenium/webdriver/common/chromedriver')\n",
    "    driver.get(page)  \n",
    "    time.sleep(10)\n",
    "    soup = BeautifulSoup(driver.page_source, 'html.parser')\n",
    "\n",
    "    my_table = soup.find(class_=['price option-text'])\n",
    "    \n",
    "    try:\n",
    "        data.append(my_table.get_text())\n",
    "        data[i]=int(re.sub('[^0-9]','', data[i]))\n",
    "        \n",
    "        if data[i]<price_goal:\n",
    "            \n",
    "            #Email info\n",
    "            sender = 'tytinkdev@gmail.com'\n",
    "            password = 'Thetink10!'\n",
    "            port = 465\n",
    "            receive = 'maddiej149@gmail.com'\n",
    "           \n",
    "            #Email content\n",
    "            msg = MIMEMultipart()\n",
    "            msg['From'] = sender\n",
    "            msg['To'] = receive\n",
    "            msg['Subject'] = 'Hi pie... How does this deal look?'\n",
    "\n",
    "            body = 'Lmk...' + re.sub('https://www.', '', page)\n",
    "            msg.attach(MIMEText(body,'plain'))\n",
    "            text = msg.as_string()\n",
    "\n",
    "            #Sending email\n",
    "            context = ssl.create_default_context()\n",
    "            with smtplib.SMTP_SSL('smtp.gmail.com', port=port, context=context) as server:\n",
    "                server.login(sender, password)\n",
    "                server.sendmail(sender, receive, text)\n",
    "        else:\n",
    "            None                 \n",
    "    except:\n",
    "        data.append('No flights found')\n",
    "\n",
    "driver.quit()"
   ]
  },
  {
   "cell_type": "code",
   "execution_count": null,
   "metadata": {},
   "outputs": [],
   "source": []
  }
 ],
 "metadata": {
  "kernelspec": {
   "display_name": "Python 3",
   "language": "python",
   "name": "python3"
  },
  "language_info": {
   "codemirror_mode": {
    "name": "ipython",
    "version": 3
   },
   "file_extension": ".py",
   "mimetype": "text/x-python",
   "name": "python",
   "nbconvert_exporter": "python",
   "pygments_lexer": "ipython3",
   "version": "3.7.6"
  }
 },
 "nbformat": 4,
 "nbformat_minor": 4
}
